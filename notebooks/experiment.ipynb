{
 "cells": [
  {
   "cell_type": "code",
   "execution_count": 5,
   "metadata": {},
   "outputs": [],
   "source": [
    "import os, ast, json\n",
    "from langchain_groq import ChatGroq\n",
    "from langchain.prompts import PromptTemplate\n",
    "from dotenv import load_dotenv"
   ]
  },
  {
   "cell_type": "code",
   "execution_count": 7,
   "metadata": {},
   "outputs": [],
   "source": [
    "load_dotenv()\n",
    "groq_api_key = os.getenv('GROQ_API_KEY')\n",
    "model = ChatGroq()"
   ]
  },
  {
   "cell_type": "code",
   "execution_count": 22,
   "metadata": {},
   "outputs": [],
   "source": [
    "input_file = os.path.join('../data/extracted/audio__1.txt')\n",
    "# print(os.path.exists(input_file))\n",
    "with open(input_file, 'r') as file : \n",
    "    text = file.read()\n",
    "\n",
    "def testing(smh) : \n",
    "    structured_llm = model.with_structured_output(smh)\n",
    "    result = structured_llm.invoke(text)\n",
    "    print(type(result))\n",
    "    print(result)\n",
    "    "
   ]
  },
  {
   "cell_type": "code",
   "execution_count": 24,
   "metadata": {},
   "outputs": [
    {
     "name": "stdout",
     "output_type": "stream",
     "text": [
      "<class '__main__.CallCenterAnalysis'>\n",
      "call_time=204 hold_time=0 multiple_agents='No' route_time=0 resolution_time=0 greeting='Yes' phone_number='Yes' email_address='Yes' call_quality='No' new_case='Yes' resolution_confirmation='No' hold='Yes' hold_satisfaction='Not mentioned' escalation='No' call_tone='Neutral' issue_discussed='Return' complexity='Simple' issue_type='Return' status_query='No' call_type='Return' replacement_required='No' part_request='No' parts_dispatch='Not applicable' refund_required='Yes' field_service='Not applicable' digital_service='Not applicable'\n"
     ]
    }
   ],
   "source": [
    "from langchain_core.pydantic_v1 import BaseModel, Field\n",
    "\n",
    "class CallCenterAnalysis(BaseModel):\n",
    "    call_time: int = Field(description=\"Call time in seconds, use the start time and end time\")\n",
    "    hold_time: int = Field(default=0, description=\"Hold time in seconds, use the start time and end time everytime the agent asks to hold\")\n",
    "    multiple_agents: str = Field(description=\"Did the agent invite more agents? (Yes/No)\")\n",
    "    route_time: int = Field(default=0, description=\"Route time in seconds, use the start time and end time everytime when call is routed to some other agent\")\n",
    "    resolution_time: int = Field(default=0, description=\"Time taken to comprehend the problem in seconds\")\n",
    "    greeting: str = Field(description=\"Was the agent greeting appropriate? (Yes/No)\")\n",
    "    phone_number: str = Field(description=\"Was the phone number taken? (Yes/No)\")\n",
    "    email_address: str = Field(description=\"Was the email address taken? (Yes/No)\")\n",
    "    call_quality: str = Field(description=\"Was the call quality good from the agent's side? (Yes/No)\")\n",
    "    new_case: str = Field(description=\"Is the case existing or new? (New/Existing)\")\n",
    "    resolution_confirmation: str = Field(description=\"Did the customer confirm resolution? (Yes/No)\")\n",
    "    hold: str = Field(description=\"Was the customer put on hold? (Yes/No)\")\n",
    "    hold_satisfaction: str = Field(description=\"If customer was put on hold, were they satisfied with hold time? (Yes/No)\")\n",
    "    \n",
    "    escalation: str = Field(description=\"Was an escalation raised? (Yes/No)\")\n",
    "    call_tone: str = Field(description=\"Tone of the conversation (Positive/Negative)\")\n",
    "    issue_discussed: str = Field(description=\"What issue was discussed? (5 words)\")\n",
    "    complexity: str = Field(description=\"What was the complexity of the issue? (Easy/Intermediate/Difficult)\")\n",
    "    issue_type: str = Field(description=\"Type of issue (Assistance, Maintenance, Service)\")\n",
    "    status_query: str = Field(description=\"Was the call regarding status query? (Yes/No)\")\n",
    "    call_type: str = Field(description=\"Type of call (Installation/Proactive/Reactive/Scheduled/Incident/Other)\")\n",
    "    replacement_required: str = Field(description=\"Was replacement required? (Yes/No)\")\n",
    "    part_request: str = Field(description=\"Was this a part request call? (Yes/No)\")\n",
    "    parts_dispatch: str = Field(description=\"Were parts dispatched? (Yes/No)\")\n",
    "    refund_required: str = Field(description=\"Was refund required? (Yes/No)\")\n",
    "    field_service: str = Field(description=\"Was field service required? (Yes/No)\")\n",
    "    digital_service: str = Field(description=\"Was digital service offered? (Yes/No)\")\n",
    "\n",
    "\n",
    "testing(CallCenterAnalysis)\n"
   ]
  },
  {
   "cell_type": "code",
   "execution_count": null,
   "metadata": {},
   "outputs": [],
   "source": []
  },
  {
   "cell_type": "code",
   "execution_count": null,
   "metadata": {},
   "outputs": [],
   "source": [
    "from langchain_core.pydantic_v1 import BaseModel, Field\n",
    "from typing import Literal, Optional\n",
    "\n",
    "class CallCenterAnalysis(BaseModel):\n",
    "    call_time: int = Field(description=\"Call time in seconds\")\n",
    "    hold_time: int = Field(default=0, description=\"Hold time in seconds\")\n",
    "    route_time: int = Field(default=0, description=\"Route time in seconds\")\n",
    "    resolution_time: int = Field(default=0, description=\"Time taken to comprehend the problem in seconds\")\n",
    "    \n",
    "    # Using Literal for Yes/No fields\n",
    "    greeting: Literal['Yes', 'No'] = Field(description=\"Was the agent greeting appropriate? (Yes/No)\")\n",
    "    phone_number: Literal['Yes', 'No'] = Field(description=\"Was the phone number taken? (Yes/No)\")\n",
    "    email_address: Literal['Yes', 'No'] = Field(description=\"Was the email address taken? (Yes/No)\")\n",
    "    \n",
    "    # Additional Yes/No fields\n",
    "    call_quality: Literal['Yes', 'No'] = Field(description=\"Was the call quality good from the agent's side? (Yes/No)\")\n",
    "    new_case: Literal['New', 'Existing'] = Field(description=\"Is the case existing or new? (New/Existing)\")\n",
    "    resolution_confirmation: Literal['Yes', 'No'] = Field(description=\"Did the customer confirm resolution? (Yes/No)\")\n",
    "    hold: Literal['Yes', 'No'] = Field(description=\"Was the customer put on hold? (Yes/No)\")\n",
    "    hold_satisfaction: Literal['Yes', 'No'] = Field(description=\"If customer was put on hold, were they satisfied with hold time? (Yes/No)\")\n",
    "    multiple_agents: Literal['Yes', 'No'] = Field(description=\"Did the agent invite more agents? (Yes/No)\")\n",
    "    escalation: Literal['Yes', 'No'] = Field(description=\"Was an escalation raised? (Yes/No)\")\n",
    "    \n",
    "    # Tone of conversation can be Positive or Negative, using a basic string\n",
    "    call_tone: Literal['Positive', 'Negative'] = Field(description=\"Tone of the conversation (Positive/Negative)\")\n",
    "\n",
    "    # Simpler responses for issue-related fields\n",
    "    issue_discussed: str = Field(description=\"What issue was discussed? (5 words)\")\n",
    "    complexity: Literal['Easy', 'Intermediate', 'Difficult'] = Field(description=\"What was the complexity of the issue? (Easy/Intermediate/Difficult)\")\n",
    "    issue_type: Literal['Assistance', 'Maintenance', 'Service'] = Field(description=\"Type of issue (Assistance, Maintenance, Service)\")\n",
    "\n",
    "    # Status query, call type and other binary fields\n",
    "    status_query: Literal['Yes', 'No'] = Field(description=\"Was the call regarding status query? (Yes/No)\")\n",
    "    call_type: Literal['Installation', 'Proactive', 'Reactive', 'Scheduled', 'Incident', 'Other'] = Field(description=\"Type of call (Installation/Proactive/Reactive/Scheduled/Incident/Other)\")\n",
    "    replacement_required: Literal['Yes', 'No'] = Field(description=\"Was replacement required? (Yes/No)\")\n",
    "    \n",
    "    # Part request-related fields with Yes/No\n",
    "    part_request: Literal['Yes', 'No'] = Field(description=\"Was this a part request call? (Yes/No)\")\n",
    "    parts_dispatch: Literal['Yes', 'No'] = Field(description=\"Were parts dispatched? (Yes/No)\")\n",
    "    refund_required: Literal['Yes', 'No'] = Field(description=\"Was refund required? (Yes/No)\")\n",
    "    field_service: Literal['Yes', 'No'] = Field(description=\"Was field service required? (Yes/No)\")\n",
    "    digital_service: Literal['Yes', 'No'] = Field(description=\"Was digital service offered? (Yes/No)\")\n"
   ]
  }
 ],
 "metadata": {
  "kernelspec": {
   "display_name": "venv",
   "language": "python",
   "name": "python3"
  },
  "language_info": {
   "codemirror_mode": {
    "name": "ipython",
    "version": 3
   },
   "file_extension": ".py",
   "mimetype": "text/x-python",
   "name": "python",
   "nbconvert_exporter": "python",
   "pygments_lexer": "ipython3",
   "version": "3.12.2"
  }
 },
 "nbformat": 4,
 "nbformat_minor": 2
}
